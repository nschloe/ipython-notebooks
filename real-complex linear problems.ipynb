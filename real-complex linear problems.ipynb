{
 "metadata": {
  "name": "real-complex linear problems"
 },
 "nbformat": 3,
 "nbformat_minor": 0,
 "worksheets": [
  {
   "cells": [
    {
     "cell_type": "heading",
     "level": 1,
     "metadata": {},
     "source": [
      "Exploring the real formulation of complex-valued linear problems"
     ]
    },
    {
     "cell_type": "markdown",
     "metadata": {},
     "source": [
      "This notebook considers various real-valued formatulations of the complex-valued linear problem\n",
      "\\\\[\n",
      "M z = b\n",
      "\\\\]\n",
      "with $M=A+iB$.\n",
      "This is in particular with respect to the spectra.\n",
      "\n",
      "First set up a complex-valued problem where real and imaginary part are assumed symmetric"
     ]
    },
    {
     "cell_type": "code",
     "collapsed": false,
     "input": [
      "import numpy as np\n",
      "from matplotlib import pyplot as pp\n",
      "\n",
      "# size of the complex-valued system\n",
      "n = 50                                                                      \n",
      "                                                                             \n",
      "A = np.random.rand(n, n)\n",
      "A = 0.5 * (A + A.T)\n",
      "B = np.random.rand(n, n)\n",
      "B = 0.5 * (B + B.T)\n",
      "                                                                                \n",
      "M = A + 1j * B"
     ],
     "language": "python",
     "metadata": {},
     "outputs": [],
     "prompt_number": 34
    },
    {
     "cell_type": "markdown",
     "metadata": {},
     "source": [
      "Check out the eigenvalues of complex system."
     ]
    },
    {
     "cell_type": "code",
     "collapsed": false,
     "input": [
      "L, V = np.linalg.eig(M)\n",
      "pp.plot(L.real, L.imag, 'xb')\n",
      "pp.show()"
     ],
     "language": "python",
     "metadata": {},
     "outputs": [],
     "prompt_number": 35
    },
    {
     "cell_type": "markdown",
     "metadata": {},
     "source": [
      "Now form the corresponding complex-valued system\n",
      "\\\\[\n",
      "\\mathcal{M} =\n",
      "\\begin{pmatrix}\n",
      "A & -B \\\\\\\\\n",
      "B & A\n",
      "\\end{pmatrix}\n",
      "\\\\]\n",
      "and plot its eigenvalues."
     ]
    },
    {
     "cell_type": "code",
     "collapsed": false,
     "input": [
      "M1 = np.c_[np.r_[A, -B],\n",
      "           np.r_[B,  A]]\n",
      "L2, V2 = np.linalg.eig(M1)\n",
      "pp.plot(L2.real, L2.imag, '.r')\n",
      "\n",
      "# Plot the previous eigenvalues for comparison\n",
      "pp.plot(L.real, L.imag, 'xb')"
     ],
     "language": "python",
     "metadata": {},
     "outputs": [
      {
       "output_type": "pyout",
       "prompt_number": 44,
       "text": [
        "[<matplotlib.lines.Line2D at 0x5383d10>]"
       ]
      }
     ],
     "prompt_number": 44
    },
    {
     "cell_type": "markdown",
     "metadata": {},
     "source": [
      "One notices that the eigenvalues of $\\mathcal{A}$ are \n",
      "\n",
      "_Lemma._\n",
      "Let $(\\mathcal{u}, \\lambda)$ be an eigenpair of the complex-valued linear operator $M$. Then the matrix $\\mathcal{M}$ has the eigenpairs $((u, -iu), \\lambda)$, $((\\overline{u}, i\\overline{u}), \\overline{\\lambda})$.\n",
      "\n",
      "_Proof._\n",
      "By substitution:\n",
      "$$\n",
      "\\begin{pmatrix}\n",
      "A & -B \\\\\\\\\n",
      "B & A\n",
      "\\end{pmatrix}\n",
      "\\begin{pmatrix}\n",
      "u \\\\\\\\\n",
      "-iu\n",
      "\\end{pmatrix} = \\begin{pmatrix}\n",
      "Au + iBu \\\\\\\\\n",
      "Bu - iAu\n",
      "\\end{pmatrix} = \\begin{pmatrix}\n",
      "\\lambda u \\\\\\\\\n",
      "-i\\lambda u\n",
      "\\end{pmatrix} = \\lambda \\begin{pmatrix}\n",
      " u \\\\\\\\\n",
      "-i u\n",
      "\\end{pmatrix}\n",
      "$$\n",
      "and\n",
      "$$\n",
      "\\begin{pmatrix}\n",
      "A & -B \\\\\\\\\n",
      "B & A\n",
      "\\end{pmatrix}\n",
      "\\begin{pmatrix}\n",
      "\\overline{u} \\\\\\\\\n",
      "i\\overline{u}\n",
      "\\end{pmatrix} = \\begin{pmatrix}\n",
      "A\\overline{u} - iB\\overline{u} \\\\\\\\\n",
      "B\\overline{u} + iA\\overline{u}\n",
      "\\end{pmatrix} = \\begin{pmatrix}\n",
      "\\overline{A u + iBu} \\\\\\\\\n",
      "\\overline{Bu - iAu}\n",
      "\\end{pmatrix} = \\begin{pmatrix}\n",
      "\\overline{\\lambda u} \\\\\\\\\n",
      "\\overline{-i\\lambda u}\n",
      "\\end{pmatrix} = \\overline{\\lambda} \\begin{pmatrix}\n",
      "\\overline{u} \\\\\\\\\n",
      "i \\overline{u}\n",
      "\\end{pmatrix}.\n",
      "$$"
     ]
    },
    {
     "cell_type": "markdown",
     "metadata": {},
     "source": [
      "The converse is true too:\n",
      "\n",
      "_Lemma._\n",
      "Given an eigenvector-eigenvalue pair $((u, v), \\lambda)$ of the real-valued matrix $\\mathcal{M}$, either $(u + iv, \\overline{\\lambda})$ or\n",
      "$(\\overline{u} + i\\overline{v}, \\lambda)$ is an eigenpair of the corresponding complex-valued matrix $M$.\n",
      "\n",
      "_Proof._\n",
      "In the eigenequation\n",
      "$$\n",
      "\\begin{pmatrix}\n",
      "A & -B \\\\\\\\\n",
      "B & A\n",
      "\\end{pmatrix}\n",
      "\\begin{pmatrix}\n",
      "u\\\\\\\\\n",
      "v\n",
      "\\end{pmatrix}\n",
      "= \\lambda\n",
      "\\begin{pmatrix}\n",
      "u\\\\\\\\\n",
      "v\n",
      "\\end{pmatrix}\n",
      "$$\n",
      "multiply the second equation with $i$ and add it to the first. This yields\n",
      "$$\n",
      "(A+iB) (u+iv) = \\lambda (u+iv).\n",
      "$$\n",
      "Hence, either $u+iv=0$ or $\\lambda$ is an eigenvalue of $M=A+iB$.\n",
      "The same can be done for the conjugate equation $\\mathcal{M}(\\overline{u}, \\overline{v}) = \\overline{\\lambda}(\\overline{u}, \\overline{v})$; either $\\overline{u}+i\\overline{v}=0$ or $\\overline{\\lambda}$ is an eigenvalue of $M$.\n",
      "Both $u+iv=0$ and  $\\overline{u}+i\\overline{v}=0$ cannot hold at the same time since that means that $u=v=0$ (which cannot be true since $(u,v)$ as assumed an eigenvector). If both $u+iv\\neq 0$ and $\\overline{u}+i\\overline{v}\\neq 0$ then both $\\lambda$ and $\\overline{\\lambda}$ are eigenvalues of $M$. This means that $\\lambda=\\overline{\\lambda}$."
     ]
    },
    {
     "cell_type": "markdown",
     "metadata": {},
     "source": [
      "We will now look at the alternative formulation\n",
      "$$\n",
      "\\mathcal{M}_2 =\n",
      "\\begin{pmatrix}\n",
      "A & B \\\\\\\\\n",
      "B & -A\n",
      "\\end{pmatrix}.\n",
      "$$\n",
      "As opposed to $\\mathcal{M}$, $\\mathcal{M}_2$ is symmetric if both $A$ and $B$ are. Moreover,\n",
      "\n",
      "_Lemma._\n",
      "The pair $((u,v), \\lambda)$ is an eigenpair of $\\mathcal{M}_2$ if an only if $((-v,u), -\\lambda)$ is an eigenpair.\n",
      "\n",
      "_Proof._\n",
      "Simple substitution."
     ]
    },
    {
     "cell_type": "markdown",
     "metadata": {},
     "source": [
      "The symmetric formulation makes $\\mathcal{M}_2$ somewhat attractive since it allows for solution methods to exploit this symmetry (e.g., MINRES). It remains unclear, however, how to spectrum of $\\mathcal{M}_2$ is connected with the spectrum of $\\mathcal{M}$ or $M$, respectively."
     ]
    },
    {
     "cell_type": "code",
     "collapsed": false,
     "input": [
      "M2 = np.c_[np.r_[A, B],\n",
      "           np.r_[B,-A]]\n",
      "L3, V3 = np.linalg.eig(M2)\n",
      "pp.plot(L3.real, L3.imag, '.g')\n",
      "\n",
      "# assert that the eigenvalues are all real\n",
      "assert all(abs(L3.imag) < 1.0e-14)\n",
      "\n",
      "# assert that the eigenvalues come in pairs (a, -a)\n",
      "a = np.sort(L3.real)\n",
      "assert all(abs(a + a[::-1]) < 1.0e-13)"
     ],
     "language": "python",
     "metadata": {},
     "outputs": [],
     "prompt_number": 42
    },
    {
     "cell_type": "heading",
     "level": 3,
     "metadata": {},
     "source": [
      "GMRES comparison"
     ]
    },
    {
     "cell_type": "markdown",
     "metadata": {},
     "source": [
      "Compare the convergence of GMRES. Since $\\mathcal{M}_2$ is symmetric, treatment with MINRES should deliver the same results (up to roundoff error)."
     ]
    },
    {
     "cell_type": "code",
     "collapsed": false,
     "input": [
      "import krypy\n",
      "\n",
      "# create random rhs\n",
      "b = np.random.rand(n) + 1j * np.random.rand(n)\n",
      "\n",
      "out = krypy.linsys.gmres(M, b)\n",
      "\n",
      "bc = np.r_[b.real,\n",
      "           b.imag]\n",
      "out1 = krypy.linsys.gmres(M1, bc)\n",
      "out2 = krypy.linsys.gmres(M2, bc)\n",
      "\n",
      "\n",
      "pp.semilogy(out['relresvec'],\n",
      "            label='M')\n",
      "pp.semilogy(out1['relresvec'],\n",
      "            label='M1')\n",
      "pp.semilogy(out2['relresvec'],\n",
      "            label='M2')\n",
      "pp.legend()"
     ],
     "language": "python",
     "metadata": {},
     "outputs": [
      {
       "output_type": "pyout",
       "prompt_number": 54,
       "text": [
        "<matplotlib.legend.Legend at 0x76d6a10>"
       ]
      }
     ],
     "prompt_number": 54
    },
    {
     "cell_type": "markdown",
     "metadata": {},
     "source": []
    }
   ],
   "metadata": {}
  }
 ]
}